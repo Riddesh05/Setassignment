{
 "cells": [
  {
   "cell_type": "markdown",
   "id": "5eb62b8f",
   "metadata": {},
   "source": [
    "# Q1"
   ]
  },
  {
   "cell_type": "markdown",
   "id": "a1439f31",
   "metadata": {},
   "source": [
    "a set is an unordered collection of unique elements. It is defined by placing a comma-separated sequence of elements inside curly braces {}. Sets are similar to lists or tuples, but they do not allow duplicate elements\n",
    "for example:"
   ]
  },
  {
   "cell_type": "code",
   "execution_count": 1,
   "id": "4a2a9587",
   "metadata": {},
   "outputs": [
    {
     "name": "stdout",
     "output_type": "stream",
     "text": [
      "{1, 2, 3, 4, 5}\n"
     ]
    }
   ],
   "source": [
    "s={1,2,3,4,5}\n",
    "print(s)"
   ]
  },
  {
   "cell_type": "code",
   "execution_count": 2,
   "id": "23251ad5",
   "metadata": {},
   "outputs": [
    {
     "data": {
      "text/plain": [
       "set"
      ]
     },
     "execution_count": 2,
     "metadata": {},
     "output_type": "execute_result"
    }
   ],
   "source": [
    "type(s)"
   ]
  },
  {
   "cell_type": "markdown",
   "id": "98ccf0fe",
   "metadata": {},
   "source": [
    "# Q2"
   ]
  },
  {
   "cell_type": "markdown",
   "id": "7d2e3d02",
   "metadata": {},
   "source": [
    "In python we can create set by using curly braces'{}'\n",
    "and separating them by comma and alternatively we can use the built-in 'set()' constructor to create a set"
   ]
  },
  {
   "cell_type": "code",
   "execution_count": 3,
   "id": "a79e6c6d",
   "metadata": {},
   "outputs": [
    {
     "name": "stdout",
     "output_type": "stream",
     "text": [
      "{1, 2, 3, 6, 7}\n"
     ]
    }
   ],
   "source": [
    "s={1,3,2,6,7}\n",
    "print(s)"
   ]
  },
  {
   "cell_type": "code",
   "execution_count": 4,
   "id": "3554d5c3",
   "metadata": {},
   "outputs": [
    {
     "name": "stdout",
     "output_type": "stream",
     "text": [
      "{1, 2, 3, 4, 5, 6, 22}\n"
     ]
    }
   ],
   "source": [
    "s=set([1,22,2,22,3,4,5,6,6])\n",
    "print(s)"
   ]
  },
  {
   "cell_type": "markdown",
   "id": "9a6199d7",
   "metadata": {},
   "source": [
    "# Q3"
   ]
  },
  {
   "cell_type": "markdown",
   "id": "822f86d0",
   "metadata": {},
   "source": [
    "In python to add element in set we can use add() and\n",
    "update() method \n",
    "for example"
   ]
  },
  {
   "cell_type": "code",
   "execution_count": 5,
   "id": "144aabd2",
   "metadata": {},
   "outputs": [
    {
     "name": "stdout",
     "output_type": "stream",
     "text": [
      "{1, 2, 33, 34, 22, 44, 45}\n"
     ]
    }
   ],
   "source": [
    "s={1,2,44,22,33,45}\n",
    "s.add(34)\n",
    "print(s)"
   ]
  },
  {
   "cell_type": "code",
   "execution_count": 7,
   "id": "91f3aa0d",
   "metadata": {},
   "outputs": [
    {
     "name": "stdout",
     "output_type": "stream",
     "text": [
      "{2, 3, 67, 4, 5, 68, 69}\n"
     ]
    }
   ],
   "source": [
    "s={2,3,4,5,67}\n",
    "s.update([68,69])\n",
    "print(s)"
   ]
  },
  {
   "cell_type": "markdown",
   "id": "fb1e5fe3",
   "metadata": {},
   "source": [
    "# Q4"
   ]
  },
  {
   "cell_type": "code",
   "execution_count": 9,
   "id": "e5c54036",
   "metadata": {},
   "outputs": [
    {
     "name": "stdout",
     "output_type": "stream",
     "text": [
      "{2, 3, 5, 6, 7, 8}\n"
     ]
    }
   ],
   "source": [
    "s={2,3,4,5,6,7,8}\n",
    "s.remove(4)\n",
    "print(s)"
   ]
  },
  {
   "cell_type": "markdown",
   "id": "2bd84936",
   "metadata": {},
   "source": [
    "# Q5"
   ]
  },
  {
   "cell_type": "markdown",
   "id": "cb3eab76",
   "metadata": {},
   "source": [
    "To get length of set we can use len() function \n",
    "for example:"
   ]
  },
  {
   "cell_type": "code",
   "execution_count": 10,
   "id": "b7c6eedd",
   "metadata": {},
   "outputs": [
    {
     "name": "stdout",
     "output_type": "stream",
     "text": [
      "10\n"
     ]
    }
   ],
   "source": [
    "s={1,2,3,4,5,6,7,8,91,10}\n",
    "s1=len(s)\n",
    "print(s1)"
   ]
  },
  {
   "cell_type": "code",
   "execution_count": null,
   "id": "00dc1ba6",
   "metadata": {},
   "outputs": [],
   "source": []
  }
 ],
 "metadata": {
  "kernelspec": {
   "display_name": "Python 3 (ipykernel)",
   "language": "python",
   "name": "python3"
  },
  "language_info": {
   "codemirror_mode": {
    "name": "ipython",
    "version": 3
   },
   "file_extension": ".py",
   "mimetype": "text/x-python",
   "name": "python",
   "nbconvert_exporter": "python",
   "pygments_lexer": "ipython3",
   "version": "3.10.9"
  }
 },
 "nbformat": 4,
 "nbformat_minor": 5
}
